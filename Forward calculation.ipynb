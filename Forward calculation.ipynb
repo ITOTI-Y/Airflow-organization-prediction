{
 "cells": [
  {
   "cell_type": "code",
   "execution_count": 17,
   "metadata": {},
   "outputs": [],
   "source": [
    "import numpy as np"
   ]
  },
  {
   "cell_type": "code",
   "execution_count": 18,
   "metadata": {},
   "outputs": [],
   "source": [
    "edges = [(0, 1), (1, 2), (1, 3), (2, 3), (3, 0)]\n",
    "input_nodes = [0]\n",
    "output_nodes = [0]\n",
    "node_nums = 4\n",
    "\n",
    "input_value = 10\n",
    "output_value = -5"
   ]
  },
  {
   "cell_type": "code",
   "execution_count": 19,
   "metadata": {},
   "outputs": [],
   "source": [
    "def loop_circuit(input_nodes,output_nodes):\n",
    "    xx,yy = np.meshgrid(output_nodes,input_nodes)\n",
    "    result = np.stack((xx.ravel(),yy.ravel()),axis=1)\n",
    "    return result.squeeze()"
   ]
  },
  {
   "cell_type": "code",
   "execution_count": 20,
   "metadata": {},
   "outputs": [],
   "source": [
    "def is_in_array(node1,node2,loop_array):\n",
    "    group = [node1,node2]\n",
    "    if len(loop_array.shape) > 1:\n",
    "        axis = 1\n",
    "    else:\n",
    "        axis = 0\n",
    "    return np.any(np.all(loop_array == group,axis=axis))"
   ]
  },
  {
   "cell_type": "code",
   "execution_count": 21,
   "metadata": {},
   "outputs": [],
   "source": [
    "def make_B(node_nums,edges,input_nodes,output_nodes):\n",
    "    loop_nodes = loop_circuit(input_nodes,output_nodes)\n",
    "    def get_vector(node1,node2):\n",
    "        if node1 >= node2:\n",
    "            return 1\n",
    "        else:\n",
    "            return -1\n",
    "        \n",
    "    P = np.zeros((node_nums))\n",
    "    for i in range(P.size):\n",
    "        if i in input_nodes:\n",
    "            P[i] = input_value\n",
    "        elif i in output_nodes:\n",
    "            P[i] = output_value\n",
    "        else:\n",
    "            P[i] = 0\n",
    "\n",
    "    P = P.reshape(-1,1)\n",
    "    B = np.zeros((node_nums,len(edges)))\n",
    "\n",
    "    for i in range(len(edges)):\n",
    "        node1,node2 = edges[i]\n",
    "        # if is_in_array(node1,node2,loop_nodes):\n",
    "        #     B[node2,i] = -1\n",
    "        #     B[node1,i] = 1\n",
    "        B[node1,i] = 1\n",
    "        B[node2,i] = -B[node1,i]\n",
    "    return B"
   ]
  },
  {
   "cell_type": "code",
   "execution_count": 22,
   "metadata": {},
   "outputs": [],
   "source": [
    "def make_H(edges,input_nodes,output_nodes):\n",
    "    H = np.zeros((len(edges)))\n",
    "    input_edges_index = [i[0] for i in enumerate(edges) for j in i[1] if j in input_nodes]\n",
    "    output_edges_index = [i[0] for i in enumerate(edges) for j in i[1] if j in output_nodes]\n",
    "\n",
    "    for i in range(len(edges)):\n",
    "        if i in input_edges_index:\n",
    "            H[i] += input_value\n",
    "            if i in output_edges_index:\n",
    "                H[i] -= output_value\n",
    "        elif i in output_edges_index:\n",
    "            H[i] -= output_value\n",
    "        else:\n",
    "            H[i] = 0\n",
    "\n",
    "    return H.reshape(-1,1)"
   ]
  },
  {
   "cell_type": "code",
   "execution_count": 23,
   "metadata": {},
   "outputs": [],
   "source": [
    "def Q_cal(B,P,H,R):\n",
    "    result = np.sign(np.dot(B.T,P) + H)*np.sqrt(1/R * np.abs(np.dot(B.T,P) + H))\n",
    "    return result"
   ]
  },
  {
   "cell_type": "code",
   "execution_count": 24,
   "metadata": {},
   "outputs": [],
   "source": [
    "def xki(k,i,B,R,Q0,rho):\n",
    "    temp = B[i,:].reshape(-1,1)*rho/np.where(R*np.abs(Q0)!=0,R*np.abs(Q0),1e-9)\n",
    "    result = np.dot(B[k,:].reshape(-1,1).T,temp)\n",
    "    return result.squeeze()\n",
    "\n",
    "def X(B,R,Q0,rho):\n",
    "    X = np.zeros((B.shape[0],B.shape[0]))\n",
    "    for k in range(B.shape[0]):\n",
    "        for i in range(B.shape[0]):\n",
    "            X[k,i] = xki(k,i,B,R,Q0,rho)\n",
    "    X = np.sum(X,axis=1,keepdims=True)\n",
    "    X = np.where(X!=0,X,1e-9)\n",
    "    return X"
   ]
  },
  {
   "cell_type": "code",
   "execution_count": 25,
   "metadata": {},
   "outputs": [],
   "source": [
    "def Y(B,Q0,rho):\n",
    "    Y = np.zeros((B.shape[0],1))\n",
    "    for k in range(B.shape[0]):\n",
    "        Y[k] = np.dot(B[k,:].reshape(-1,1).T,Q0*rho)\n",
    "    return Y"
   ]
  },
  {
   "cell_type": "code",
   "execution_count": 26,
   "metadata": {},
   "outputs": [],
   "source": [
    "B = make_B(node_nums,edges,input_nodes,output_nodes)"
   ]
  },
  {
   "cell_type": "code",
   "execution_count": 266,
   "metadata": {},
   "outputs": [],
   "source": [
    "B = make_B(node_nums,edges,input_nodes,output_nodes)\n",
    "P = np.zeros((node_nums,1))\n",
    "H = make_H(edges,input_nodes,output_nodes)\n",
    "R = np.ones((len(edges),1))\n",
    "rho = np.ones((len(edges),1))"
   ]
  },
  {
   "cell_type": "code",
   "execution_count": 267,
   "metadata": {},
   "outputs": [],
   "source": [
    "P[0] = 10\n",
    "P[3] = -5\n",
    "po = P"
   ]
  },
  {
   "cell_type": "code",
   "execution_count": 268,
   "metadata": {},
   "outputs": [],
   "source": [
    "qo = Q_cal(B,po,H,R)\n",
    "y = Y(B,qo,rho)\n",
    "x = X(B,R,qo,rho)\n",
    "delta_p = y/x"
   ]
  },
  {
   "cell_type": "code",
   "execution_count": 255,
   "metadata": {},
   "outputs": [],
   "source": [
    "pn = P + delta_p\n",
    "po = pn"
   ]
  }
 ],
 "metadata": {
  "kernelspec": {
   "display_name": ".venv",
   "language": "python",
   "name": "python3"
  },
  "language_info": {
   "codemirror_mode": {
    "name": "ipython",
    "version": 3
   },
   "file_extension": ".py",
   "mimetype": "text/x-python",
   "name": "python",
   "nbconvert_exporter": "python",
   "pygments_lexer": "ipython3",
   "version": "3.10.10"
  },
  "orig_nbformat": 4
 },
 "nbformat": 4,
 "nbformat_minor": 2
}
