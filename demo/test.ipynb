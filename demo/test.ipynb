{
 "cells": [
  {
   "cell_type": "code",
   "execution_count": 36,
   "metadata": {},
   "outputs": [
    {
     "name": "stdout",
     "output_type": "stream",
     "text": [
      "The autoreload extension is already loaded. To reload it, use:\n",
      "  %reload_ext autoreload\n"
     ]
    }
   ],
   "source": [
    "%load_ext autoreload\n",
    "%autoreload 2\n",
    "\n",
    "import sys\n",
    "sys.path.append('../')\n",
    "from utils.dataset import *\n",
    "from utils.train import model_setting\n",
    "from utils.model import *\n",
    "from torch.utils.data import DataLoader,random_split\n",
    "from torchvision.transforms import v2 as transforms\n",
    "import torch\n",
    "import numpy as np\n",
    "import matplotlib.pyplot as plt\n",
    "from scipy.optimize import linear_sum_assignment\n",
    "from torch import nn\n",
    "\n",
    "class HungarianLoss(nn.Module):\n",
    "    def __init__(self, num_classes, weight_dict={'cls': 1, 'bbox': 5}, eos_coef=0.1):\n",
    "        super().__init__()\n",
    "        self.num_classes = num_classes\n",
    "        self.weight_dict = weight_dict\n",
    "        self.eos_coef = eos_coef\n",
    "        self.bbox_criterion = nn.L1Loss(reduction='none')\n",
    "        self.cls_criterion = nn.CrossEntropyLoss(reduction='none')\n",
    "\n",
    "    def forward(self, outputs, targets):\n",
    "        bs, num_queries = outputs['pred_logits'].shape[:2]\n",
    "        out_prob = outputs['pred_logits'].flatten(0, 1).softmax(-1)  # [bs*num_queries, num_classes]\n",
    "        out_bbox = outputs['pred_boxes'].flatten(0, 1)  # [bs*num_queries, 4]\n",
    "\n",
    "        tgt_ids = torch.cat([t['labels'] for t in targets])  # [sum(num_objs)]\n",
    "        tgt_bbox = torch.cat([t['boxes'] for t in targets])  # [sum(num_objs), 4]\n",
    "\n",
    "        # Compute the cost matrix\n",
    "        cost_class = -out_prob[:, tgt_ids]\n",
    "        cost_bbox = self.bbox_criterion(out_bbox, tgt_bbox)\n",
    "        cost_bbox = cost_bbox.sum(-1)\n",
    "        cost_matrix = self.weight_dict['cls'] * cost_class + self.weight_dict['bbox'] * cost_bbox\n",
    "        cost_matrix = cost_matrix.view(bs, num_queries, -1).cpu()\n",
    "\n",
    "        # Compute the optimal assignment\n",
    "        indices = [linear_sum_assignment(c[i]) for i, c in enumerate(cost_matrix.split(1, -1))]\n",
    "        indices = [(torch.as_tensor(i, dtype=torch.int64), torch.as_tensor(j, dtype=torch.int64)) for i, j in indices]\n",
    "        indices = [(i.to(out_prob.device), j.to(out_prob.device)) for i, j in indices]\n",
    "\n",
    "        # Compute the losses\n",
    "        cls_loss = self.cls_criterion(out_prob, tgt_ids)\n",
    "        bbox_loss = self.bbox_criterion(out_bbox, tgt_bbox)\n",
    "        cls_loss = sum([cls_loss[i, j].mean() for (i, j) in indices])\n",
    "        bbox_loss = sum([bbox_loss[i, j].mean() for (i, j) in indices])\n",
    "        loss = cls_loss + bbox_loss\n",
    "\n",
    "        return loss\n"
   ]
  },
  {
   "cell_type": "code",
   "execution_count": 31,
   "metadata": {},
   "outputs": [],
   "source": [
    "dataset = Detection_data('D:\\Folder\\Vscode\\Git\\Airflow organization prediction\\data\\detection_data')"
   ]
  },
  {
   "cell_type": "code",
   "execution_count": 39,
   "metadata": {},
   "outputs": [],
   "source": [
    "train_data,val_data,test_data = random_split(dataset,[0.8,0.1,0.1])\n",
    "train_loader = DataLoader(train_data,batch_size=2,shuffle=True)\n",
    "val_loader = DataLoader(val_data,batch_size=2,shuffle=False)"
   ]
  },
  {
   "cell_type": "code",
   "execution_count": 38,
   "metadata": {},
   "outputs": [],
   "source": [
    "model = DETR(num_classes=2, hidden_dim=256, n_heads=8, num_encoder_layers=6, num_decoder_layers=6)\n",
    "criterion = HungarianLoss(2)\n",
    "optimizer = torch.optim.AdamW(model.parameters(),lr=1e-4)"
   ]
  },
  {
   "cell_type": "code",
   "execution_count": null,
   "metadata": {},
   "outputs": [],
   "source": [
    "for epoch in range(1):\n",
    "    for inputs,"
   ]
  }
 ],
 "metadata": {
  "kernelspec": {
   "display_name": ".venv",
   "language": "python",
   "name": "python3"
  },
  "language_info": {
   "codemirror_mode": {
    "name": "ipython",
    "version": 3
   },
   "file_extension": ".py",
   "mimetype": "text/x-python",
   "name": "python",
   "nbconvert_exporter": "python",
   "pygments_lexer": "ipython3",
   "version": "3.10.11"
  }
 },
 "nbformat": 4,
 "nbformat_minor": 2
}
